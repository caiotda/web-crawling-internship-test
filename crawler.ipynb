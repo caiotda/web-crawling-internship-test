{
 "cells": [
  {
   "cell_type": "code",
   "execution_count": 1,
   "metadata": {},
   "outputs": [],
   "source": [
    "from bs4 import BeautifulSoup\n",
    "import pandas as pd\n",
    "import requests\n",
    "\n",
    "from selenium import webdriver"
   ]
  },
  {
   "cell_type": "code",
   "execution_count": 30,
   "metadata": {},
   "outputs": [],
   "source": [
    "def extract_product_offers(url):\n",
    "    wrapper_class_name = 'styles__Wrapper-crf3j2-0 eFgqLx'\n",
    "    product_wrapper_class = 'styles__ProductGridItem-crf3j2-1'\n",
    "\n",
    "    wrapper_class_name = 'div.styles__Wrapper-crf3j2-0.eFgqLx'\n",
    "\n",
    "    image_class_name = 'a.styles__CardMediaWrapper-sc-1gzprri-4.WLhYY'\n",
    "\n",
    "    driver = webdriver.Firefox() \n",
    "    driver.get(refrigerators_url)\n",
    "\n",
    "\n",
    "    wrapper = driver.find_element_by_css_selector(wrapper_class_name)\n",
    "    products = driver.find_elements_by_class_name(product_wrapper_class)\n",
    "\n",
    "    products_df = pd.DataFrame([], columns=['Title', 'Url', 'Sdk'])\n",
    "    for product in products:\n",
    "        image = product.find_element_by_css_selector(image_class_name)\n",
    "        title = image.get_attribute('title')\n",
    "        url = image.get_attribute('href')\n",
    "        ind = url.rfind('/')+1\n",
    "        sdk = url[ind:]\n",
    "        products_df = products_df.append({'Title': title, 'Url': url, 'Sdk': sdk}, ignore_index=True)\n",
    "    driver.quit()\n",
    "    return products_df"
   ]
  },
  {
   "cell_type": "code",
   "execution_count": 31,
   "metadata": {},
   "outputs": [],
   "source": [
    "\n",
    "refrigerators_url = 'https://www.extra.com.br/c/eletrodomesticos/refrigeradores/?filtro=c13_c14_c13&des=0TO25'\n",
    "\n",
    "tvs_url = 'https://www.extra.com.br/c/tv-e-video/televisores/\\\n",
    "          ?filtro=c1_c2&nid=202485&des=0TO100'\n",
    "\n",
    "printers_url = 'https://www.extra.com.br/c/informatica/z\\\n",
    "                impressoras/?filtro=c56_c61&des=0TO100'\n"
   ]
  },
  {
   "cell_type": "code",
   "execution_count": 34,
   "metadata": {},
   "outputs": [],
   "source": [
    "\n",
    "refrigerators = extract_product_offers(refrigerators_url)\n",
    "tvs = extract_product_offers(tvs_url)\n",
    "printers = extract_product_offers(printers_url)\n"
   ]
  },
  {
   "cell_type": "code",
   "execution_count": 35,
   "metadata": {},
   "outputs": [
    {
     "output_type": "execute_result",
     "data": {
      "text/plain": [
       "                                                Title  \\\n",
       "0   Refrigerador Consul Frost Free CRM43NK com 2 P...   \n",
       "1   Refrigerador Consul Frost Free Facilite CRB39A...   \n",
       "2   Refrigerador Consul Frost Free CRM39AB Duplex ...   \n",
       "3   Refrigerador Electrolux DF44 com Prateleira Re...   \n",
       "4   Refrigerador Electrolux Frost Free DB53 Bottom...   \n",
       "5   Refrigerador Electrolux DF56 com Icemax Branco...   \n",
       "6   Refrigerador Brastemp Side Inverse BRO80AB com...   \n",
       "7   Refrigerador Panasonic Frost Free NR-BB53GV3W ...   \n",
       "8   Refrigerador Consul CRE44AB Frost Free Duplex ...   \n",
       "9   Refrigerador Electrolux Infinity DF80X Frost F...   \n",
       "10  Refrigerador Brastemp Inverse BRE58AB Frost Fr...   \n",
       "11  Geladeira Brastemp Frost Free Inverse 478 L Ev...   \n",
       "\n",
       "                                                  Url       Sdk  \n",
       "0   https://www.extra.com.br/refrigerador-consul-f...   9600890  \n",
       "1   https://www.extra.com.br/refrigerador-consul-f...  10153519  \n",
       "2   https://www.extra.com.br/refrigerador-consul-f...  50004596  \n",
       "3   https://www.extra.com.br/refrigerador-electrol...  15243319  \n",
       "4   https://www.extra.com.br/refrigerador-electrol...  11688788  \n",
       "5   https://www.extra.com.br/refrigerador-electrol...  15243314  \n",
       "6   https://www.extra.com.br/refrigerador-brastemp...   4420011  \n",
       "7   https://www.extra.com.br/refrigerador-panasoni...  55007189  \n",
       "8   https://www.extra.com.br/refrigerador-consul-c...  50003891  \n",
       "9   https://www.extra.com.br/refrigerador-electrol...      9344  \n",
       "10  https://www.extra.com.br/refrigerador-brastemp...  11689344  \n",
       "11  https://www.extra.com.br/geladeira-brastemp-fr...  11689373  "
      ],
      "text/html": "<div>\n<style scoped>\n    .dataframe tbody tr th:only-of-type {\n        vertical-align: middle;\n    }\n\n    .dataframe tbody tr th {\n        vertical-align: top;\n    }\n\n    .dataframe thead th {\n        text-align: right;\n    }\n</style>\n<table border=\"1\" class=\"dataframe\">\n  <thead>\n    <tr style=\"text-align: right;\">\n      <th></th>\n      <th>Title</th>\n      <th>Url</th>\n      <th>Sdk</th>\n    </tr>\n  </thead>\n  <tbody>\n    <tr>\n      <th>0</th>\n      <td>Refrigerador Consul Frost Free CRM43NK com 2 P...</td>\n      <td>https://www.extra.com.br/refrigerador-consul-f...</td>\n      <td>9600890</td>\n    </tr>\n    <tr>\n      <th>1</th>\n      <td>Refrigerador Consul Frost Free Facilite CRB39A...</td>\n      <td>https://www.extra.com.br/refrigerador-consul-f...</td>\n      <td>10153519</td>\n    </tr>\n    <tr>\n      <th>2</th>\n      <td>Refrigerador Consul Frost Free CRM39AB Duplex ...</td>\n      <td>https://www.extra.com.br/refrigerador-consul-f...</td>\n      <td>50004596</td>\n    </tr>\n    <tr>\n      <th>3</th>\n      <td>Refrigerador Electrolux DF44 com Prateleira Re...</td>\n      <td>https://www.extra.com.br/refrigerador-electrol...</td>\n      <td>15243319</td>\n    </tr>\n    <tr>\n      <th>4</th>\n      <td>Refrigerador Electrolux Frost Free DB53 Bottom...</td>\n      <td>https://www.extra.com.br/refrigerador-electrol...</td>\n      <td>11688788</td>\n    </tr>\n    <tr>\n      <th>5</th>\n      <td>Refrigerador Electrolux DF56 com Icemax Branco...</td>\n      <td>https://www.extra.com.br/refrigerador-electrol...</td>\n      <td>15243314</td>\n    </tr>\n    <tr>\n      <th>6</th>\n      <td>Refrigerador Brastemp Side Inverse BRO80AB com...</td>\n      <td>https://www.extra.com.br/refrigerador-brastemp...</td>\n      <td>4420011</td>\n    </tr>\n    <tr>\n      <th>7</th>\n      <td>Refrigerador Panasonic Frost Free NR-BB53GV3W ...</td>\n      <td>https://www.extra.com.br/refrigerador-panasoni...</td>\n      <td>55007189</td>\n    </tr>\n    <tr>\n      <th>8</th>\n      <td>Refrigerador Consul CRE44AB Frost Free Duplex ...</td>\n      <td>https://www.extra.com.br/refrigerador-consul-c...</td>\n      <td>50003891</td>\n    </tr>\n    <tr>\n      <th>9</th>\n      <td>Refrigerador Electrolux Infinity DF80X Frost F...</td>\n      <td>https://www.extra.com.br/refrigerador-electrol...</td>\n      <td>9344</td>\n    </tr>\n    <tr>\n      <th>10</th>\n      <td>Refrigerador Brastemp Inverse BRE58AB Frost Fr...</td>\n      <td>https://www.extra.com.br/refrigerador-brastemp...</td>\n      <td>11689344</td>\n    </tr>\n    <tr>\n      <th>11</th>\n      <td>Geladeira Brastemp Frost Free Inverse 478 L Ev...</td>\n      <td>https://www.extra.com.br/geladeira-brastemp-fr...</td>\n      <td>11689373</td>\n    </tr>\n  </tbody>\n</table>\n</div>"
     },
     "metadata": {},
     "execution_count": 35
    }
   ],
   "source": [
    "refrigerators"
   ]
  },
  {
   "cell_type": "code",
   "execution_count": 26,
   "metadata": {},
   "outputs": [
    {
     "output_type": "execute_result",
     "data": {
      "text/plain": [
       "                                                Title  \\\n",
       "0   Refrigerador Consul Frost Free CRM43NK com 2 P...   \n",
       "1   Refrigerador Consul Frost Free CRM43NK com 2 P...   \n",
       "2   Refrigerador Consul Frost Free CRM43NK com 2 P...   \n",
       "3   Refrigerador Consul Frost Free CRM43NK com 2 P...   \n",
       "4   Refrigerador Consul Frost Free CRM43NK com 2 P...   \n",
       "5   Refrigerador Consul Frost Free CRM43NK com 2 P...   \n",
       "6   Refrigerador Consul Frost Free CRM43NK com 2 P...   \n",
       "7   Refrigerador Consul Frost Free CRM43NK com 2 P...   \n",
       "8   Refrigerador Consul Frost Free CRM43NK com 2 P...   \n",
       "9   Refrigerador Consul Frost Free CRM43NK com 2 P...   \n",
       "10  Refrigerador Consul Frost Free CRM43NK com 2 P...   \n",
       "11  Refrigerador Consul Frost Free CRM43NK com 2 P...   \n",
       "\n",
       "                                                  Url      Sdk  \n",
       "0   https://www.extra.com.br/refrigerador-consul-f...  9600890  \n",
       "1   https://www.extra.com.br/refrigerador-consul-f...  9600890  \n",
       "2   https://www.extra.com.br/refrigerador-consul-f...  9600890  \n",
       "3   https://www.extra.com.br/refrigerador-consul-f...  9600890  \n",
       "4   https://www.extra.com.br/refrigerador-consul-f...  9600890  \n",
       "5   https://www.extra.com.br/refrigerador-consul-f...  9600890  \n",
       "6   https://www.extra.com.br/refrigerador-consul-f...  9600890  \n",
       "7   https://www.extra.com.br/refrigerador-consul-f...  9600890  \n",
       "8   https://www.extra.com.br/refrigerador-consul-f...  9600890  \n",
       "9   https://www.extra.com.br/refrigerador-consul-f...  9600890  \n",
       "10  https://www.extra.com.br/refrigerador-consul-f...  9600890  \n",
       "11  https://www.extra.com.br/refrigerador-consul-f...  9600890  "
      ],
      "text/html": "<div>\n<style scoped>\n    .dataframe tbody tr th:only-of-type {\n        vertical-align: middle;\n    }\n\n    .dataframe tbody tr th {\n        vertical-align: top;\n    }\n\n    .dataframe thead th {\n        text-align: right;\n    }\n</style>\n<table border=\"1\" class=\"dataframe\">\n  <thead>\n    <tr style=\"text-align: right;\">\n      <th></th>\n      <th>Title</th>\n      <th>Url</th>\n      <th>Sdk</th>\n    </tr>\n  </thead>\n  <tbody>\n    <tr>\n      <th>0</th>\n      <td>Refrigerador Consul Frost Free CRM43NK com 2 P...</td>\n      <td>https://www.extra.com.br/refrigerador-consul-f...</td>\n      <td>9600890</td>\n    </tr>\n    <tr>\n      <th>1</th>\n      <td>Refrigerador Consul Frost Free CRM43NK com 2 P...</td>\n      <td>https://www.extra.com.br/refrigerador-consul-f...</td>\n      <td>9600890</td>\n    </tr>\n    <tr>\n      <th>2</th>\n      <td>Refrigerador Consul Frost Free CRM43NK com 2 P...</td>\n      <td>https://www.extra.com.br/refrigerador-consul-f...</td>\n      <td>9600890</td>\n    </tr>\n    <tr>\n      <th>3</th>\n      <td>Refrigerador Consul Frost Free CRM43NK com 2 P...</td>\n      <td>https://www.extra.com.br/refrigerador-consul-f...</td>\n      <td>9600890</td>\n    </tr>\n    <tr>\n      <th>4</th>\n      <td>Refrigerador Consul Frost Free CRM43NK com 2 P...</td>\n      <td>https://www.extra.com.br/refrigerador-consul-f...</td>\n      <td>9600890</td>\n    </tr>\n    <tr>\n      <th>5</th>\n      <td>Refrigerador Consul Frost Free CRM43NK com 2 P...</td>\n      <td>https://www.extra.com.br/refrigerador-consul-f...</td>\n      <td>9600890</td>\n    </tr>\n    <tr>\n      <th>6</th>\n      <td>Refrigerador Consul Frost Free CRM43NK com 2 P...</td>\n      <td>https://www.extra.com.br/refrigerador-consul-f...</td>\n      <td>9600890</td>\n    </tr>\n    <tr>\n      <th>7</th>\n      <td>Refrigerador Consul Frost Free CRM43NK com 2 P...</td>\n      <td>https://www.extra.com.br/refrigerador-consul-f...</td>\n      <td>9600890</td>\n    </tr>\n    <tr>\n      <th>8</th>\n      <td>Refrigerador Consul Frost Free CRM43NK com 2 P...</td>\n      <td>https://www.extra.com.br/refrigerador-consul-f...</td>\n      <td>9600890</td>\n    </tr>\n    <tr>\n      <th>9</th>\n      <td>Refrigerador Consul Frost Free CRM43NK com 2 P...</td>\n      <td>https://www.extra.com.br/refrigerador-consul-f...</td>\n      <td>9600890</td>\n    </tr>\n    <tr>\n      <th>10</th>\n      <td>Refrigerador Consul Frost Free CRM43NK com 2 P...</td>\n      <td>https://www.extra.com.br/refrigerador-consul-f...</td>\n      <td>9600890</td>\n    </tr>\n    <tr>\n      <th>11</th>\n      <td>Refrigerador Consul Frost Free CRM43NK com 2 P...</td>\n      <td>https://www.extra.com.br/refrigerador-consul-f...</td>\n      <td>9600890</td>\n    </tr>\n  </tbody>\n</table>\n</div>"
     },
     "metadata": {},
     "execution_count": 26
    }
   ],
   "source": [
    "tvs"
   ]
  },
  {
   "cell_type": "code",
   "execution_count": null,
   "metadata": {},
   "outputs": [],
   "source": []
  }
 ],
 "metadata": {
  "kernelspec": {
   "display_name": "Python 3.8.2 64-bit ('env': venv)",
   "language": "python",
   "name": "python38264bitenvvenvd85cfd6250524494a880a45bf2453be5"
  },
  "language_info": {
   "codemirror_mode": {
    "name": "ipython",
    "version": 3
   },
   "file_extension": ".py",
   "mimetype": "text/x-python",
   "name": "python",
   "nbconvert_exporter": "python",
   "pygments_lexer": "ipython3",
   "version": "3.8.2-final"
  }
 },
 "nbformat": 4,
 "nbformat_minor": 4
}