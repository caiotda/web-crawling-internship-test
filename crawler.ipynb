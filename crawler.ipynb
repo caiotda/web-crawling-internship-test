{
 "cells": [
  {
   "cell_type": "code",
   "execution_count": 1,
   "metadata": {},
   "outputs": [],
   "source": [
    "from bs4 import BeautifulSoup\n",
    "import pandas as pd\n",
    "import requests\n",
    "\n",
    "from selenium import webdriver"
   ]
  },
  {
   "cell_type": "code",
   "execution_count": 62,
   "metadata": {},
   "outputs": [],
   "source": [
    "def extract_product_offers(url):\n",
    "    wrapper_class_name = 'styles__Wrapper-crf3j2-0 eFgqLx'\n",
    "    product_wrapper_class = 'styles__ProductGridItem-crf3j2-1'\n",
    "\n",
    "    wrapper_class_name = 'div.styles__Wrapper-crf3j2-0.eFgqLx'\n",
    "\n",
    "    image_class_name = 'a.styles__CardMediaWrapper-sc-1gzprri-4.WLhYY'\n",
    "    product_unavailable = 'span.styles__ProductIsUnavailable-sc-1idhk7x-9'\n",
    "    discount_class = 'div.styles__WrapperProductCard-sc-1gzprri-10.irDXTp'\n",
    "    driver = webdriver.Firefox() \n",
    "    driver.get(url)\n",
    "\n",
    "\n",
    "    wrapper = driver.find_element_by_css_selector(wrapper_class_name)\n",
    "    products = driver.find_elements_by_class_name(product_wrapper_class)\n",
    "\n",
    "    products_df = pd.DataFrame([], columns=['Title', 'Url', 'Sdk', 'discount', 'unavailable'])\n",
    "    for product in products:\n",
    "        image = product.find_element_by_css_selector(image_class_name)\n",
    "        unavailable = len(product.find_elements_by_css_selector(product_unavailable)) != 0\n",
    "\n",
    "        discounts = image.find_elements_by_css_selector(discount_class)\n",
    "\n",
    "        if (len(discounts) == 0):\n",
    "            discount = None\n",
    "        else:\n",
    "            discount = discounts[0].get_attribute('innerText')\n",
    "            discount = discount[1:] # Removes trailing \"-\"\n",
    "        \n",
    "\n",
    "        title = image.get_attribute('title')\n",
    "        url = image.get_attribute('href')\n",
    "        ind = url.rfind('/')+1\n",
    "        sdk = url[ind:]\n",
    "        products_df = products_df.append({'Title': title, 'Url': url, 'Sdk': sdk, 'discount': discount, 'unavailable': unavailable}, ignore_index=True)\n",
    "    driver.quit()\n",
    "    return products_df"
   ]
  },
  {
   "cell_type": "code",
   "execution_count": 60,
   "metadata": {},
   "outputs": [],
   "source": [
    "\n",
    "refrigerators_url = 'https://www.extra.com.br/c/eletrodomesticos/refrigeradores/?filtro=c13_c14_c13&des=0TO25'\n",
    "\n",
    "tvs_url = 'https://www.extra.com.br/c/tv-e-video/televisores/\\\n",
    "          ?filtro=c1_c2&nid=202485&des=0TO100'\n",
    "\n",
    "printers_url = 'https://www.extra.com.br/c/informatica/z\\\n",
    "                impressoras/?filtro=c56_c61&des=0TO100'\n"
   ]
  },
  {
   "cell_type": "code",
   "execution_count": 61,
   "metadata": {},
   "outputs": [
    {
     "output_type": "error",
     "ename": "NoSuchElementException",
     "evalue": "Message: Unable to locate element: div.styles__WrapperProductCard-sc-1gzprri-10.irDXTp\n",
     "traceback": [
      "\u001b[0;31m---------------------------------------------------------------------------\u001b[0m",
      "\u001b[0;31mNoSuchElementException\u001b[0m                    Traceback (most recent call last)",
      "\u001b[0;32m/tmp/ipykernel_4857/3593686873.py\u001b[0m in \u001b[0;36m<module>\u001b[0;34m\u001b[0m\n\u001b[1;32m      1\u001b[0m \u001b[0mrefrigerators\u001b[0m \u001b[0;34m=\u001b[0m \u001b[0mextract_product_offers\u001b[0m\u001b[0;34m(\u001b[0m\u001b[0mrefrigerators_url\u001b[0m\u001b[0;34m)\u001b[0m\u001b[0;34m\u001b[0m\u001b[0;34m\u001b[0m\u001b[0m\n\u001b[0;32m----> 2\u001b[0;31m \u001b[0mtvs\u001b[0m \u001b[0;34m=\u001b[0m \u001b[0mextract_product_offers\u001b[0m\u001b[0;34m(\u001b[0m\u001b[0mtvs_url\u001b[0m\u001b[0;34m)\u001b[0m\u001b[0;34m\u001b[0m\u001b[0;34m\u001b[0m\u001b[0m\n\u001b[0m\u001b[1;32m      3\u001b[0m \u001b[0mprinters\u001b[0m \u001b[0;34m=\u001b[0m \u001b[0mextract_product_offers\u001b[0m\u001b[0;34m(\u001b[0m\u001b[0mprinters_url\u001b[0m\u001b[0;34m)\u001b[0m\u001b[0;34m\u001b[0m\u001b[0;34m\u001b[0m\u001b[0m\n",
      "\u001b[0;32m/tmp/ipykernel_4857/1517468945.py\u001b[0m in \u001b[0;36mextract_product_offers\u001b[0;34m(url)\u001b[0m\n\u001b[1;32m     18\u001b[0m     \u001b[0;32mfor\u001b[0m \u001b[0mproduct\u001b[0m \u001b[0;32min\u001b[0m \u001b[0mproducts\u001b[0m\u001b[0;34m:\u001b[0m\u001b[0;34m\u001b[0m\u001b[0;34m\u001b[0m\u001b[0m\n\u001b[1;32m     19\u001b[0m         \u001b[0mimage\u001b[0m \u001b[0;34m=\u001b[0m \u001b[0mproduct\u001b[0m\u001b[0;34m.\u001b[0m\u001b[0mfind_element_by_css_selector\u001b[0m\u001b[0;34m(\u001b[0m\u001b[0mimage_class_name\u001b[0m\u001b[0;34m)\u001b[0m\u001b[0;34m\u001b[0m\u001b[0;34m\u001b[0m\u001b[0m\n\u001b[0;32m---> 20\u001b[0;31m         \u001b[0mdiscount_el\u001b[0m \u001b[0;34m=\u001b[0m \u001b[0mimage\u001b[0m\u001b[0;34m.\u001b[0m\u001b[0mfind_element_by_css_selector\u001b[0m\u001b[0;34m(\u001b[0m\u001b[0mdiscount_class\u001b[0m\u001b[0;34m)\u001b[0m\u001b[0;34m\u001b[0m\u001b[0;34m\u001b[0m\u001b[0m\n\u001b[0m\u001b[1;32m     21\u001b[0m         \u001b[0mdiscount\u001b[0m \u001b[0;34m=\u001b[0m \u001b[0mdiscount_el\u001b[0m\u001b[0;34m.\u001b[0m\u001b[0mget_attribute\u001b[0m\u001b[0;34m(\u001b[0m\u001b[0;34m'innerText'\u001b[0m\u001b[0;34m)\u001b[0m \u001b[0;32mif\u001b[0m \u001b[0mdiscount_el\u001b[0m\u001b[0;34m.\u001b[0m\u001b[0mis_displayed\u001b[0m\u001b[0;34m(\u001b[0m\u001b[0;34m)\u001b[0m \u001b[0;32melse\u001b[0m \u001b[0;32mNone\u001b[0m\u001b[0;34m\u001b[0m\u001b[0;34m\u001b[0m\u001b[0m\n\u001b[1;32m     22\u001b[0m \u001b[0;34m\u001b[0m\u001b[0m\n",
      "\u001b[0;32m~/Documentos/web-crawling-internship-test/env/lib/python3.8/site-packages/selenium/webdriver/remote/webelement.py\u001b[0m in \u001b[0;36mfind_element_by_css_selector\u001b[0;34m(self, css_selector)\u001b[0m\n\u001b[1;32m    428\u001b[0m             \u001b[0melement\u001b[0m \u001b[0;34m=\u001b[0m \u001b[0melement\u001b[0m\u001b[0;34m.\u001b[0m\u001b[0mfind_element_by_css_selector\u001b[0m\u001b[0;34m(\u001b[0m\u001b[0;34m'#foo'\u001b[0m\u001b[0;34m)\u001b[0m\u001b[0;34m\u001b[0m\u001b[0;34m\u001b[0m\u001b[0m\n\u001b[1;32m    429\u001b[0m         \"\"\"\n\u001b[0;32m--> 430\u001b[0;31m         \u001b[0;32mreturn\u001b[0m \u001b[0mself\u001b[0m\u001b[0;34m.\u001b[0m\u001b[0mfind_element\u001b[0m\u001b[0;34m(\u001b[0m\u001b[0mby\u001b[0m\u001b[0;34m=\u001b[0m\u001b[0mBy\u001b[0m\u001b[0;34m.\u001b[0m\u001b[0mCSS_SELECTOR\u001b[0m\u001b[0;34m,\u001b[0m \u001b[0mvalue\u001b[0m\u001b[0;34m=\u001b[0m\u001b[0mcss_selector\u001b[0m\u001b[0;34m)\u001b[0m\u001b[0;34m\u001b[0m\u001b[0;34m\u001b[0m\u001b[0m\n\u001b[0m\u001b[1;32m    431\u001b[0m \u001b[0;34m\u001b[0m\u001b[0m\n\u001b[1;32m    432\u001b[0m     \u001b[0;32mdef\u001b[0m \u001b[0mfind_elements_by_css_selector\u001b[0m\u001b[0;34m(\u001b[0m\u001b[0mself\u001b[0m\u001b[0;34m,\u001b[0m \u001b[0mcss_selector\u001b[0m\u001b[0;34m)\u001b[0m\u001b[0;34m:\u001b[0m\u001b[0;34m\u001b[0m\u001b[0;34m\u001b[0m\u001b[0m\n",
      "\u001b[0;32m~/Documentos/web-crawling-internship-test/env/lib/python3.8/site-packages/selenium/webdriver/remote/webelement.py\u001b[0m in \u001b[0;36mfind_element\u001b[0;34m(self, by, value)\u001b[0m\n\u001b[1;32m    656\u001b[0m                 \u001b[0mvalue\u001b[0m \u001b[0;34m=\u001b[0m \u001b[0;34m'[name=\"%s\"]'\u001b[0m \u001b[0;34m%\u001b[0m \u001b[0mvalue\u001b[0m\u001b[0;34m\u001b[0m\u001b[0;34m\u001b[0m\u001b[0m\n\u001b[1;32m    657\u001b[0m \u001b[0;34m\u001b[0m\u001b[0m\n\u001b[0;32m--> 658\u001b[0;31m         return self._execute(Command.FIND_CHILD_ELEMENT,\n\u001b[0m\u001b[1;32m    659\u001b[0m                              {\"using\": by, \"value\": value})['value']\n\u001b[1;32m    660\u001b[0m \u001b[0;34m\u001b[0m\u001b[0m\n",
      "\u001b[0;32m~/Documentos/web-crawling-internship-test/env/lib/python3.8/site-packages/selenium/webdriver/remote/webelement.py\u001b[0m in \u001b[0;36m_execute\u001b[0;34m(self, command, params)\u001b[0m\n\u001b[1;32m    631\u001b[0m             \u001b[0mparams\u001b[0m \u001b[0;34m=\u001b[0m \u001b[0;34m{\u001b[0m\u001b[0;34m}\u001b[0m\u001b[0;34m\u001b[0m\u001b[0;34m\u001b[0m\u001b[0m\n\u001b[1;32m    632\u001b[0m         \u001b[0mparams\u001b[0m\u001b[0;34m[\u001b[0m\u001b[0;34m'id'\u001b[0m\u001b[0;34m]\u001b[0m \u001b[0;34m=\u001b[0m \u001b[0mself\u001b[0m\u001b[0;34m.\u001b[0m\u001b[0m_id\u001b[0m\u001b[0;34m\u001b[0m\u001b[0;34m\u001b[0m\u001b[0m\n\u001b[0;32m--> 633\u001b[0;31m         \u001b[0;32mreturn\u001b[0m \u001b[0mself\u001b[0m\u001b[0;34m.\u001b[0m\u001b[0m_parent\u001b[0m\u001b[0;34m.\u001b[0m\u001b[0mexecute\u001b[0m\u001b[0;34m(\u001b[0m\u001b[0mcommand\u001b[0m\u001b[0;34m,\u001b[0m \u001b[0mparams\u001b[0m\u001b[0;34m)\u001b[0m\u001b[0;34m\u001b[0m\u001b[0;34m\u001b[0m\u001b[0m\n\u001b[0m\u001b[1;32m    634\u001b[0m \u001b[0;34m\u001b[0m\u001b[0m\n\u001b[1;32m    635\u001b[0m     \u001b[0;32mdef\u001b[0m \u001b[0mfind_element\u001b[0m\u001b[0;34m(\u001b[0m\u001b[0mself\u001b[0m\u001b[0;34m,\u001b[0m \u001b[0mby\u001b[0m\u001b[0;34m=\u001b[0m\u001b[0mBy\u001b[0m\u001b[0;34m.\u001b[0m\u001b[0mID\u001b[0m\u001b[0;34m,\u001b[0m \u001b[0mvalue\u001b[0m\u001b[0;34m=\u001b[0m\u001b[0;32mNone\u001b[0m\u001b[0;34m)\u001b[0m\u001b[0;34m:\u001b[0m\u001b[0;34m\u001b[0m\u001b[0;34m\u001b[0m\u001b[0m\n",
      "\u001b[0;32m~/Documentos/web-crawling-internship-test/env/lib/python3.8/site-packages/selenium/webdriver/remote/webdriver.py\u001b[0m in \u001b[0;36mexecute\u001b[0;34m(self, driver_command, params)\u001b[0m\n\u001b[1;32m    319\u001b[0m         \u001b[0mresponse\u001b[0m \u001b[0;34m=\u001b[0m \u001b[0mself\u001b[0m\u001b[0;34m.\u001b[0m\u001b[0mcommand_executor\u001b[0m\u001b[0;34m.\u001b[0m\u001b[0mexecute\u001b[0m\u001b[0;34m(\u001b[0m\u001b[0mdriver_command\u001b[0m\u001b[0;34m,\u001b[0m \u001b[0mparams\u001b[0m\u001b[0;34m)\u001b[0m\u001b[0;34m\u001b[0m\u001b[0;34m\u001b[0m\u001b[0m\n\u001b[1;32m    320\u001b[0m         \u001b[0;32mif\u001b[0m \u001b[0mresponse\u001b[0m\u001b[0;34m:\u001b[0m\u001b[0;34m\u001b[0m\u001b[0;34m\u001b[0m\u001b[0m\n\u001b[0;32m--> 321\u001b[0;31m             \u001b[0mself\u001b[0m\u001b[0;34m.\u001b[0m\u001b[0merror_handler\u001b[0m\u001b[0;34m.\u001b[0m\u001b[0mcheck_response\u001b[0m\u001b[0;34m(\u001b[0m\u001b[0mresponse\u001b[0m\u001b[0;34m)\u001b[0m\u001b[0;34m\u001b[0m\u001b[0;34m\u001b[0m\u001b[0m\n\u001b[0m\u001b[1;32m    322\u001b[0m             response['value'] = self._unwrap_value(\n\u001b[1;32m    323\u001b[0m                 response.get('value', None))\n",
      "\u001b[0;32m~/Documentos/web-crawling-internship-test/env/lib/python3.8/site-packages/selenium/webdriver/remote/errorhandler.py\u001b[0m in \u001b[0;36mcheck_response\u001b[0;34m(self, response)\u001b[0m\n\u001b[1;32m    240\u001b[0m                 \u001b[0malert_text\u001b[0m \u001b[0;34m=\u001b[0m \u001b[0mvalue\u001b[0m\u001b[0;34m[\u001b[0m\u001b[0;34m'alert'\u001b[0m\u001b[0;34m]\u001b[0m\u001b[0;34m.\u001b[0m\u001b[0mget\u001b[0m\u001b[0;34m(\u001b[0m\u001b[0;34m'text'\u001b[0m\u001b[0;34m)\u001b[0m\u001b[0;34m\u001b[0m\u001b[0;34m\u001b[0m\u001b[0m\n\u001b[1;32m    241\u001b[0m             \u001b[0;32mraise\u001b[0m \u001b[0mexception_class\u001b[0m\u001b[0;34m(\u001b[0m\u001b[0mmessage\u001b[0m\u001b[0;34m,\u001b[0m \u001b[0mscreen\u001b[0m\u001b[0;34m,\u001b[0m \u001b[0mstacktrace\u001b[0m\u001b[0;34m,\u001b[0m \u001b[0malert_text\u001b[0m\u001b[0;34m)\u001b[0m\u001b[0;34m\u001b[0m\u001b[0;34m\u001b[0m\u001b[0m\n\u001b[0;32m--> 242\u001b[0;31m         \u001b[0;32mraise\u001b[0m \u001b[0mexception_class\u001b[0m\u001b[0;34m(\u001b[0m\u001b[0mmessage\u001b[0m\u001b[0;34m,\u001b[0m \u001b[0mscreen\u001b[0m\u001b[0;34m,\u001b[0m \u001b[0mstacktrace\u001b[0m\u001b[0;34m)\u001b[0m\u001b[0;34m\u001b[0m\u001b[0;34m\u001b[0m\u001b[0m\n\u001b[0m\u001b[1;32m    243\u001b[0m \u001b[0;34m\u001b[0m\u001b[0m\n\u001b[1;32m    244\u001b[0m     \u001b[0;32mdef\u001b[0m \u001b[0m_value_or_default\u001b[0m\u001b[0;34m(\u001b[0m\u001b[0mself\u001b[0m\u001b[0;34m,\u001b[0m \u001b[0mobj\u001b[0m\u001b[0;34m,\u001b[0m \u001b[0mkey\u001b[0m\u001b[0;34m,\u001b[0m \u001b[0mdefault\u001b[0m\u001b[0;34m)\u001b[0m\u001b[0;34m:\u001b[0m\u001b[0;34m\u001b[0m\u001b[0;34m\u001b[0m\u001b[0m\n",
      "\u001b[0;31mNoSuchElementException\u001b[0m: Message: Unable to locate element: div.styles__WrapperProductCard-sc-1gzprri-10.irDXTp\n"
     ]
    }
   ],
   "source": [
    "\n",
    "refrigerators = extract_product_offers(refrigerators_url)\n",
    "tvs = extract_product_offers(tvs_url)\n",
    "printers = extract_product_offers(printers_url)\n"
   ]
  },
  {
   "cell_type": "code",
   "execution_count": 56,
   "metadata": {},
   "outputs": [
    {
     "output_type": "execute_result",
     "data": {
      "text/plain": [
       "                                                Title  \\\n",
       "0   Refrigerador Consul Frost Free CRM43NK com 2 P...   \n",
       "1   Refrigerador Consul Frost Free Facilite CRB39A...   \n",
       "2   Refrigerador Consul Frost Free CRM39AB Duplex ...   \n",
       "3   Refrigerador Electrolux DF44 com Prateleira Re...   \n",
       "4   Refrigerador Electrolux Frost Free DB53 Bottom...   \n",
       "5   Refrigerador Electrolux DF56 com Icemax Branco...   \n",
       "6   Refrigerador Brastemp Side Inverse BRO80AB com...   \n",
       "7   Refrigerador Panasonic Frost Free NR-BB53GV3W ...   \n",
       "8   Refrigerador Consul CRE44AB Frost Free Duplex ...   \n",
       "9   Refrigerador Electrolux Infinity DF80X Frost F...   \n",
       "10  Refrigerador Brastemp Inverse BRE58AB Frost Fr...   \n",
       "11  Geladeira Brastemp Frost Free Inverse 478 L Ev...   \n",
       "\n",
       "                                                  Url       Sdk discount  \\\n",
       "0   https://www.extra.com.br/refrigerador-consul-f...   9600890      -4%   \n",
       "1   https://www.extra.com.br/refrigerador-consul-f...  10153519      -7%   \n",
       "2   https://www.extra.com.br/refrigerador-consul-f...  50004596      -4%   \n",
       "3   https://www.extra.com.br/refrigerador-electrol...  15243319      -7%   \n",
       "4   https://www.extra.com.br/refrigerador-electrol...  11688788      -3%   \n",
       "5   https://www.extra.com.br/refrigerador-electrol...  15243314      -6%   \n",
       "6   https://www.extra.com.br/refrigerador-brastemp...   4420011      -4%   \n",
       "7   https://www.extra.com.br/refrigerador-panasoni...  55007189      -4%   \n",
       "8   https://www.extra.com.br/refrigerador-consul-c...  50003891      -3%   \n",
       "9   https://www.extra.com.br/refrigerador-electrol...      9344     -13%   \n",
       "10  https://www.extra.com.br/refrigerador-brastemp...  11689344     -15%   \n",
       "11  https://www.extra.com.br/geladeira-brastemp-fr...  11689373     -11%   \n",
       "\n",
       "   unavailable  \n",
       "0        False  \n",
       "1        False  \n",
       "2        False  \n",
       "3        False  \n",
       "4        False  \n",
       "5        False  \n",
       "6        False  \n",
       "7        False  \n",
       "8         True  \n",
       "9         True  \n",
       "10        True  \n",
       "11        True  "
      ],
      "text/html": "<div>\n<style scoped>\n    .dataframe tbody tr th:only-of-type {\n        vertical-align: middle;\n    }\n\n    .dataframe tbody tr th {\n        vertical-align: top;\n    }\n\n    .dataframe thead th {\n        text-align: right;\n    }\n</style>\n<table border=\"1\" class=\"dataframe\">\n  <thead>\n    <tr style=\"text-align: right;\">\n      <th></th>\n      <th>Title</th>\n      <th>Url</th>\n      <th>Sdk</th>\n      <th>discount</th>\n      <th>unavailable</th>\n    </tr>\n  </thead>\n  <tbody>\n    <tr>\n      <th>0</th>\n      <td>Refrigerador Consul Frost Free CRM43NK com 2 P...</td>\n      <td>https://www.extra.com.br/refrigerador-consul-f...</td>\n      <td>9600890</td>\n      <td>-4%</td>\n      <td>False</td>\n    </tr>\n    <tr>\n      <th>1</th>\n      <td>Refrigerador Consul Frost Free Facilite CRB39A...</td>\n      <td>https://www.extra.com.br/refrigerador-consul-f...</td>\n      <td>10153519</td>\n      <td>-7%</td>\n      <td>False</td>\n    </tr>\n    <tr>\n      <th>2</th>\n      <td>Refrigerador Consul Frost Free CRM39AB Duplex ...</td>\n      <td>https://www.extra.com.br/refrigerador-consul-f...</td>\n      <td>50004596</td>\n      <td>-4%</td>\n      <td>False</td>\n    </tr>\n    <tr>\n      <th>3</th>\n      <td>Refrigerador Electrolux DF44 com Prateleira Re...</td>\n      <td>https://www.extra.com.br/refrigerador-electrol...</td>\n      <td>15243319</td>\n      <td>-7%</td>\n      <td>False</td>\n    </tr>\n    <tr>\n      <th>4</th>\n      <td>Refrigerador Electrolux Frost Free DB53 Bottom...</td>\n      <td>https://www.extra.com.br/refrigerador-electrol...</td>\n      <td>11688788</td>\n      <td>-3%</td>\n      <td>False</td>\n    </tr>\n    <tr>\n      <th>5</th>\n      <td>Refrigerador Electrolux DF56 com Icemax Branco...</td>\n      <td>https://www.extra.com.br/refrigerador-electrol...</td>\n      <td>15243314</td>\n      <td>-6%</td>\n      <td>False</td>\n    </tr>\n    <tr>\n      <th>6</th>\n      <td>Refrigerador Brastemp Side Inverse BRO80AB com...</td>\n      <td>https://www.extra.com.br/refrigerador-brastemp...</td>\n      <td>4420011</td>\n      <td>-4%</td>\n      <td>False</td>\n    </tr>\n    <tr>\n      <th>7</th>\n      <td>Refrigerador Panasonic Frost Free NR-BB53GV3W ...</td>\n      <td>https://www.extra.com.br/refrigerador-panasoni...</td>\n      <td>55007189</td>\n      <td>-4%</td>\n      <td>False</td>\n    </tr>\n    <tr>\n      <th>8</th>\n      <td>Refrigerador Consul CRE44AB Frost Free Duplex ...</td>\n      <td>https://www.extra.com.br/refrigerador-consul-c...</td>\n      <td>50003891</td>\n      <td>-3%</td>\n      <td>True</td>\n    </tr>\n    <tr>\n      <th>9</th>\n      <td>Refrigerador Electrolux Infinity DF80X Frost F...</td>\n      <td>https://www.extra.com.br/refrigerador-electrol...</td>\n      <td>9344</td>\n      <td>-13%</td>\n      <td>True</td>\n    </tr>\n    <tr>\n      <th>10</th>\n      <td>Refrigerador Brastemp Inverse BRE58AB Frost Fr...</td>\n      <td>https://www.extra.com.br/refrigerador-brastemp...</td>\n      <td>11689344</td>\n      <td>-15%</td>\n      <td>True</td>\n    </tr>\n    <tr>\n      <th>11</th>\n      <td>Geladeira Brastemp Frost Free Inverse 478 L Ev...</td>\n      <td>https://www.extra.com.br/geladeira-brastemp-fr...</td>\n      <td>11689373</td>\n      <td>-11%</td>\n      <td>True</td>\n    </tr>\n  </tbody>\n</table>\n</div>"
     },
     "metadata": {},
     "execution_count": 56
    }
   ],
   "source": [
    "refrigerators"
   ]
  },
  {
   "cell_type": "code",
   "execution_count": 37,
   "metadata": {},
   "outputs": [
    {
     "output_type": "execute_result",
     "data": {
      "text/plain": [
       "                                                Title  \\\n",
       "0   Refrigerador Consul Frost Free CRM43NK com 2 P...   \n",
       "1   Refrigerador Consul Frost Free Facilite CRB39A...   \n",
       "2   Refrigerador Consul Frost Free CRM39AB Duplex ...   \n",
       "3   Refrigerador Electrolux DF44 com Prateleira Re...   \n",
       "4   Refrigerador Electrolux Frost Free DB53 Bottom...   \n",
       "5   Refrigerador Electrolux DF56 com Icemax Branco...   \n",
       "6   Refrigerador Brastemp Side Inverse BRO80AB com...   \n",
       "7   Refrigerador Panasonic Frost Free NR-BB53GV3W ...   \n",
       "8   Refrigerador Consul CRE44AB Frost Free Duplex ...   \n",
       "9   Refrigerador Electrolux Infinity DF80X Frost F...   \n",
       "10  Refrigerador Brastemp Inverse BRE58AB Frost Fr...   \n",
       "11  Geladeira Brastemp Frost Free Inverse 478 L Ev...   \n",
       "\n",
       "                                                  Url       Sdk  \n",
       "0   https://www.extra.com.br/refrigerador-consul-f...   9600890  \n",
       "1   https://www.extra.com.br/refrigerador-consul-f...  10153519  \n",
       "2   https://www.extra.com.br/refrigerador-consul-f...  50004596  \n",
       "3   https://www.extra.com.br/refrigerador-electrol...  15243319  \n",
       "4   https://www.extra.com.br/refrigerador-electrol...  11688788  \n",
       "5   https://www.extra.com.br/refrigerador-electrol...  15243314  \n",
       "6   https://www.extra.com.br/refrigerador-brastemp...   4420011  \n",
       "7   https://www.extra.com.br/refrigerador-panasoni...  55007189  \n",
       "8   https://www.extra.com.br/refrigerador-consul-c...  50003891  \n",
       "9   https://www.extra.com.br/refrigerador-electrol...      9344  \n",
       "10  https://www.extra.com.br/refrigerador-brastemp...  11689344  \n",
       "11  https://www.extra.com.br/geladeira-brastemp-fr...  11689373  "
      ],
      "text/html": "<div>\n<style scoped>\n    .dataframe tbody tr th:only-of-type {\n        vertical-align: middle;\n    }\n\n    .dataframe tbody tr th {\n        vertical-align: top;\n    }\n\n    .dataframe thead th {\n        text-align: right;\n    }\n</style>\n<table border=\"1\" class=\"dataframe\">\n  <thead>\n    <tr style=\"text-align: right;\">\n      <th></th>\n      <th>Title</th>\n      <th>Url</th>\n      <th>Sdk</th>\n    </tr>\n  </thead>\n  <tbody>\n    <tr>\n      <th>0</th>\n      <td>Refrigerador Consul Frost Free CRM43NK com 2 P...</td>\n      <td>https://www.extra.com.br/refrigerador-consul-f...</td>\n      <td>9600890</td>\n    </tr>\n    <tr>\n      <th>1</th>\n      <td>Refrigerador Consul Frost Free Facilite CRB39A...</td>\n      <td>https://www.extra.com.br/refrigerador-consul-f...</td>\n      <td>10153519</td>\n    </tr>\n    <tr>\n      <th>2</th>\n      <td>Refrigerador Consul Frost Free CRM39AB Duplex ...</td>\n      <td>https://www.extra.com.br/refrigerador-consul-f...</td>\n      <td>50004596</td>\n    </tr>\n    <tr>\n      <th>3</th>\n      <td>Refrigerador Electrolux DF44 com Prateleira Re...</td>\n      <td>https://www.extra.com.br/refrigerador-electrol...</td>\n      <td>15243319</td>\n    </tr>\n    <tr>\n      <th>4</th>\n      <td>Refrigerador Electrolux Frost Free DB53 Bottom...</td>\n      <td>https://www.extra.com.br/refrigerador-electrol...</td>\n      <td>11688788</td>\n    </tr>\n    <tr>\n      <th>5</th>\n      <td>Refrigerador Electrolux DF56 com Icemax Branco...</td>\n      <td>https://www.extra.com.br/refrigerador-electrol...</td>\n      <td>15243314</td>\n    </tr>\n    <tr>\n      <th>6</th>\n      <td>Refrigerador Brastemp Side Inverse BRO80AB com...</td>\n      <td>https://www.extra.com.br/refrigerador-brastemp...</td>\n      <td>4420011</td>\n    </tr>\n    <tr>\n      <th>7</th>\n      <td>Refrigerador Panasonic Frost Free NR-BB53GV3W ...</td>\n      <td>https://www.extra.com.br/refrigerador-panasoni...</td>\n      <td>55007189</td>\n    </tr>\n    <tr>\n      <th>8</th>\n      <td>Refrigerador Consul CRE44AB Frost Free Duplex ...</td>\n      <td>https://www.extra.com.br/refrigerador-consul-c...</td>\n      <td>50003891</td>\n    </tr>\n    <tr>\n      <th>9</th>\n      <td>Refrigerador Electrolux Infinity DF80X Frost F...</td>\n      <td>https://www.extra.com.br/refrigerador-electrol...</td>\n      <td>9344</td>\n    </tr>\n    <tr>\n      <th>10</th>\n      <td>Refrigerador Brastemp Inverse BRE58AB Frost Fr...</td>\n      <td>https://www.extra.com.br/refrigerador-brastemp...</td>\n      <td>11689344</td>\n    </tr>\n    <tr>\n      <th>11</th>\n      <td>Geladeira Brastemp Frost Free Inverse 478 L Ev...</td>\n      <td>https://www.extra.com.br/geladeira-brastemp-fr...</td>\n      <td>11689373</td>\n    </tr>\n  </tbody>\n</table>\n</div>"
     },
     "metadata": {},
     "execution_count": 37
    }
   ],
   "source": [
    "tvs"
   ]
  },
  {
   "cell_type": "code",
   "execution_count": null,
   "metadata": {},
   "outputs": [],
   "source": []
  }
 ],
 "metadata": {
  "kernelspec": {
   "display_name": "Python 3.8.2 64-bit ('env': venv)",
   "language": "python",
   "name": "python38264bitenvvenvd85cfd6250524494a880a45bf2453be5"
  },
  "language_info": {
   "codemirror_mode": {
    "name": "ipython",
    "version": 3
   },
   "file_extension": ".py",
   "mimetype": "text/x-python",
   "name": "python",
   "nbconvert_exporter": "python",
   "pygments_lexer": "ipython3",
   "version": "3.8.2-final"
  }
 },
 "nbformat": 4,
 "nbformat_minor": 4
}