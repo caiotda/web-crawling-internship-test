{
 "cells": [
  {
   "cell_type": "code",
   "execution_count": 1,
   "metadata": {},
   "outputs": [],
   "source": [
    "from bs4 import BeautifulSoup\n",
    "import pandas as pd\n",
    "import requests\n",
    "\n",
    "from selenium import webdriver"
   ]
  },
  {
   "cell_type": "markdown",
   "metadata": {},
   "source": [
    "First, let's write a function that extracts the offer. We'll use selenium because Extra uses Javascript to dinamically load content, so beautiful soup won't do. We'll use css selectors to find the target elements"
   ]
  },
  {
   "cell_type": "code",
   "execution_count": 63,
   "metadata": {},
   "outputs": [],
   "source": [
    "def extract_product_offers(url):\n",
    "    \"\"\" (string) -> Dataframe\n",
    "        RECEIVES a webpage url, scraps the page and\n",
    "        RETURNS a Dataframe containing relevant data. \n",
    "    \"\"\"\n",
    "\n",
    "    wrapper_class_name = 'styles__Wrapper-crf3j2-0 eFgqLx'\n",
    "    product_wrapper_class = 'styles__ProductGridItem-crf3j2-1'\n",
    "\n",
    "    wrapper_class_name = 'div.styles__Wrapper-crf3j2-0.eFgqLx'\n",
    "\n",
    "    image_class_name = 'a.styles__CardMediaWrapper-sc-1gzprri-4.WLhYY'\n",
    "    product_unavailable = 'span.styles__ProductIsUnavailable-sc-1idhk7x-9'\n",
    "    discount_class = 'div.styles__WrapperProductCard-sc-1gzprri-10.irDXTp'\n",
    "    driver = webdriver.Firefox() \n",
    "    driver.get(url)\n",
    "\n",
    "\n",
    "    wrapper = driver.find_element_by_css_selector(wrapper_class_name)\n",
    "    products = driver.find_elements_by_class_name(product_wrapper_class)\n",
    "\n",
    "    products_df = pd.DataFrame([], columns=['Title', 'Url', 'Sdk', 'discount', 'unavailable'])\n",
    "    for product in products:\n",
    "        image = product.find_element_by_css_selector(image_class_name)\n",
    "        unavailable = len(product.find_elements_by_css_selector(product_unavailable)) != 0\n",
    "\n",
    "        discounts = image.find_elements_by_css_selector(discount_class)\n",
    "\n",
    "        if (len(discounts) == 0):\n",
    "            discount = None\n",
    "        else:\n",
    "            discount = discounts[0].get_attribute('innerText')\n",
    "            # Because the discount text contains a minus sign prepending it, we remove it\n",
    "            discount = discount[1:]\n",
    "        \n",
    "\n",
    "        title = image.get_attribute('title')\n",
    "        url = image.get_attribute('href')\n",
    "        ind = url.rfind('/')+1\n",
    "        sdk = url[ind:]\n",
    "        products_df = products_df.append({'Title': title, 'Url': url, 'Sdk': sdk, 'discount': discount, 'unavailable': unavailable}, ignore_index=True)\n",
    "    driver.quit()\n",
    "    return products_df"
   ]
  },
  {
   "cell_type": "markdown",
   "metadata": {},
   "source": [
    "We want only products that contain a discount. Because the website accepts the discount as a parameter \"des\", we just pass it allong with the url."
   ]
  },
  {
   "cell_type": "code",
   "execution_count": 75,
   "metadata": {},
   "outputs": [],
   "source": [
    "\n",
    "refrigerators_url = 'https://www.extra.com.br/c/eletrodomesticos/refrigeradores/?filtro=c13_c14_c13&des=0TO25'\n",
    "\n",
    "tvs_url = 'https://www.extra.com.br/c/tv-e-video/televisores/\\\n",
    "          ?filtro=c1_c2&nid=202485&des=0TO100'\n",
    "\n",
    "printers_url = 'https://www.extra.com.br/c/informatica/z\\\n",
    "                impressoras/?filtro=c56_c61&des=0TO100'\n"
   ]
  },
  {
   "cell_type": "code",
   "execution_count": 65,
   "metadata": {},
   "outputs": [],
   "source": [
    "\n",
    "refrigerators = extract_product_offers(refrigerators_url)\n",
    "tvs = extract_product_offers(tvs_url)\n",
    "printers = extract_product_offers(printers_url)\n"
   ]
  },
  {
   "cell_type": "code",
   "execution_count": 70,
   "metadata": {},
   "outputs": [],
   "source": [
    "import csv"
   ]
  },
  {
   "cell_type": "code",
   "execution_count": 72,
   "metadata": {},
   "outputs": [],
   "source": [
    "refrigerators.to_csv('refrigerators.csv', index=False)"
   ]
  },
  {
   "cell_type": "code",
   "execution_count": 73,
   "metadata": {},
   "outputs": [],
   "source": [
    "tvs.to_csv('tvs.csv', index=False)"
   ]
  },
  {
   "cell_type": "code",
   "execution_count": 74,
   "metadata": {},
   "outputs": [],
   "source": [
    "printers.to_csv('printers.csv', index=False)"
   ]
  },
  {
   "cell_type": "markdown",
   "metadata": {},
   "source": [
    "Finally, let's print each dataframe found:"
   ]
  },
  {
   "cell_type": "code",
   "execution_count": 76,
   "metadata": {},
   "outputs": [
    {
     "output_type": "execute_result",
     "data": {
      "text/plain": [
       "                                                Title  \\\n",
       "0   Refrigerador Consul Frost Free CRM43NK com 2 P...   \n",
       "1   Refrigerador Consul Frost Free Facilite CRB39A...   \n",
       "2   Refrigerador Consul Frost Free CRM39AB Duplex ...   \n",
       "3   Refrigerador Electrolux DF44 com Prateleira Re...   \n",
       "4   Refrigerador Electrolux Frost Free DB53 Bottom...   \n",
       "5   Refrigerador Electrolux DF56 com Icemax Branco...   \n",
       "6   Refrigerador Brastemp Side Inverse BRO80AB com...   \n",
       "7   Refrigerador Panasonic Frost Free NR-BB53GV3W ...   \n",
       "8   Refrigerador Consul CRE44AB Frost Free Duplex ...   \n",
       "9   Refrigerador Electrolux Infinity DF80X Frost F...   \n",
       "10  Refrigerador Brastemp Inverse BRE58AB Frost Fr...   \n",
       "11  Geladeira Brastemp Frost Free Inverse 478 L Ev...   \n",
       "\n",
       "                                                  Url       Sdk discount  \\\n",
       "0   https://www.extra.com.br/refrigerador-consul-f...   9600890       4%   \n",
       "1   https://www.extra.com.br/refrigerador-consul-f...  10153519       7%   \n",
       "2   https://www.extra.com.br/refrigerador-consul-f...  50004596       4%   \n",
       "3   https://www.extra.com.br/refrigerador-electrol...  15243319       7%   \n",
       "4   https://www.extra.com.br/refrigerador-electrol...  11688788       3%   \n",
       "5   https://www.extra.com.br/refrigerador-electrol...  15243314       6%   \n",
       "6   https://www.extra.com.br/refrigerador-brastemp...   4420011       4%   \n",
       "7   https://www.extra.com.br/refrigerador-panasoni...  55007189       4%   \n",
       "8   https://www.extra.com.br/refrigerador-consul-c...  50003891       3%   \n",
       "9   https://www.extra.com.br/refrigerador-electrol...      9344      13%   \n",
       "10  https://www.extra.com.br/refrigerador-brastemp...  11689344      15%   \n",
       "11  https://www.extra.com.br/geladeira-brastemp-fr...  11689373      11%   \n",
       "\n",
       "   unavailable  \n",
       "0        False  \n",
       "1        False  \n",
       "2        False  \n",
       "3        False  \n",
       "4        False  \n",
       "5        False  \n",
       "6        False  \n",
       "7        False  \n",
       "8         True  \n",
       "9         True  \n",
       "10        True  \n",
       "11        True  "
      ],
      "text/html": "<div>\n<style scoped>\n    .dataframe tbody tr th:only-of-type {\n        vertical-align: middle;\n    }\n\n    .dataframe tbody tr th {\n        vertical-align: top;\n    }\n\n    .dataframe thead th {\n        text-align: right;\n    }\n</style>\n<table border=\"1\" class=\"dataframe\">\n  <thead>\n    <tr style=\"text-align: right;\">\n      <th></th>\n      <th>Title</th>\n      <th>Url</th>\n      <th>Sdk</th>\n      <th>discount</th>\n      <th>unavailable</th>\n    </tr>\n  </thead>\n  <tbody>\n    <tr>\n      <th>0</th>\n      <td>Refrigerador Consul Frost Free CRM43NK com 2 P...</td>\n      <td>https://www.extra.com.br/refrigerador-consul-f...</td>\n      <td>9600890</td>\n      <td>4%</td>\n      <td>False</td>\n    </tr>\n    <tr>\n      <th>1</th>\n      <td>Refrigerador Consul Frost Free Facilite CRB39A...</td>\n      <td>https://www.extra.com.br/refrigerador-consul-f...</td>\n      <td>10153519</td>\n      <td>7%</td>\n      <td>False</td>\n    </tr>\n    <tr>\n      <th>2</th>\n      <td>Refrigerador Consul Frost Free CRM39AB Duplex ...</td>\n      <td>https://www.extra.com.br/refrigerador-consul-f...</td>\n      <td>50004596</td>\n      <td>4%</td>\n      <td>False</td>\n    </tr>\n    <tr>\n      <th>3</th>\n      <td>Refrigerador Electrolux DF44 com Prateleira Re...</td>\n      <td>https://www.extra.com.br/refrigerador-electrol...</td>\n      <td>15243319</td>\n      <td>7%</td>\n      <td>False</td>\n    </tr>\n    <tr>\n      <th>4</th>\n      <td>Refrigerador Electrolux Frost Free DB53 Bottom...</td>\n      <td>https://www.extra.com.br/refrigerador-electrol...</td>\n      <td>11688788</td>\n      <td>3%</td>\n      <td>False</td>\n    </tr>\n    <tr>\n      <th>5</th>\n      <td>Refrigerador Electrolux DF56 com Icemax Branco...</td>\n      <td>https://www.extra.com.br/refrigerador-electrol...</td>\n      <td>15243314</td>\n      <td>6%</td>\n      <td>False</td>\n    </tr>\n    <tr>\n      <th>6</th>\n      <td>Refrigerador Brastemp Side Inverse BRO80AB com...</td>\n      <td>https://www.extra.com.br/refrigerador-brastemp...</td>\n      <td>4420011</td>\n      <td>4%</td>\n      <td>False</td>\n    </tr>\n    <tr>\n      <th>7</th>\n      <td>Refrigerador Panasonic Frost Free NR-BB53GV3W ...</td>\n      <td>https://www.extra.com.br/refrigerador-panasoni...</td>\n      <td>55007189</td>\n      <td>4%</td>\n      <td>False</td>\n    </tr>\n    <tr>\n      <th>8</th>\n      <td>Refrigerador Consul CRE44AB Frost Free Duplex ...</td>\n      <td>https://www.extra.com.br/refrigerador-consul-c...</td>\n      <td>50003891</td>\n      <td>3%</td>\n      <td>True</td>\n    </tr>\n    <tr>\n      <th>9</th>\n      <td>Refrigerador Electrolux Infinity DF80X Frost F...</td>\n      <td>https://www.extra.com.br/refrigerador-electrol...</td>\n      <td>9344</td>\n      <td>13%</td>\n      <td>True</td>\n    </tr>\n    <tr>\n      <th>10</th>\n      <td>Refrigerador Brastemp Inverse BRE58AB Frost Fr...</td>\n      <td>https://www.extra.com.br/refrigerador-brastemp...</td>\n      <td>11689344</td>\n      <td>15%</td>\n      <td>True</td>\n    </tr>\n    <tr>\n      <th>11</th>\n      <td>Geladeira Brastemp Frost Free Inverse 478 L Ev...</td>\n      <td>https://www.extra.com.br/geladeira-brastemp-fr...</td>\n      <td>11689373</td>\n      <td>11%</td>\n      <td>True</td>\n    </tr>\n  </tbody>\n</table>\n</div>"
     },
     "metadata": {},
     "execution_count": 76
    }
   ],
   "source": [
    "refrigerators"
   ]
  },
  {
   "cell_type": "code",
   "execution_count": 77,
   "metadata": {},
   "outputs": [
    {
     "output_type": "execute_result",
     "data": {
      "text/plain": [
       "                                                Title  \\\n",
       "0   Smart TV LED 75\" UHD 4K LG 75UN8000PSB Wi-Fi, ...   \n",
       "1   Smart TV LED 55\" UHD 4K LG 55NANO81 NanoCell, ...   \n",
       "2   Smart TV LED 65\" UHD 4K LG 65NANO86 NanoCell, ...   \n",
       "3   Smart TV LED 70\" UHD 4K LG 70UN7310PSC Wi-Fi, ...   \n",
       "4   Smart TV LED 65\" 4K TCL 65P8M com Android TV, ...   \n",
       "5   Smart TV QLED 75\" UHD 8K Samsung 75Q800T Proce...   \n",
       "6   Smart TV LED 65\" UHD 4K LG 65NANO81 NanoCell, ...   \n",
       "7   Smart TV LED 82\" UHD 4K LG 82UN8000PSB Wi-Fi, ...   \n",
       "8   Smart TV QLED 65\" UHD 8K Samsung 65Q800T Proce...   \n",
       "9   Smart TV LED 65\" UHD 4K LG 65UN7100PSA Wi-Fi, ...   \n",
       "10  Smart TV QLED 55\" UHD 4K Samsung The Frame QN5...   \n",
       "11  Smart TV LED 86\" UHD 4K LG 86NANO90 NanoCell, ...   \n",
       "12  Smart TV OLED 65\" UHD 4K LG OLED65CX Wi-Fi, Bl...   \n",
       "13  Smart TV LED 65\" UHD 8K LG 65NANO96 NanoCell, ...   \n",
       "14  Smart TV LED 65\" UHD 4K LG 65UN7310PSC Wi-Fi, ...   \n",
       "15  Smart TV QLED 50\" 4K Samsung 50Q60T Pontos Quâ...   \n",
       "16  Smart TV OLED 55\" UHD 4K LG OLED55CX Wi-Fi, Bl...   \n",
       "17  Smart TV LED 70\" UHD 4K Samsung 70TU7000 Cryst...   \n",
       "18  Smart TV QLED 55\" 4K Samsung 55Q60T Pontos Quâ...   \n",
       "19  Smart TV LED 82\" UHD 4K Samsung 82TU8000 Cryst...   \n",
       "\n",
       "                                                  Url       Sdk discount  \\\n",
       "0   https://www.extra.com.br/smart-tv-led-75-uhd-4...  55007677       5%   \n",
       "1   https://www.extra.com.br/smart-tv-led-55-uhd-4...  55007673      23%   \n",
       "2   https://www.extra.com.br/smart-tv-led-65-uhd-4...  55007670       5%   \n",
       "3   https://www.extra.com.br/smart-tv-led-70-uhd-4...  55007679       9%   \n",
       "4   https://www.extra.com.br/smart-tv-led-65-4k-tc...  55000479       3%   \n",
       "5   https://www.extra.com.br/smart-tv-qled-75-uhd-...  55006512      15%   \n",
       "6   https://www.extra.com.br/smart-tv-led-65-uhd-4...  55007672       8%   \n",
       "7   https://www.extra.com.br/smart-tv-led-82-uhd-4...  55007676      21%   \n",
       "8   https://www.extra.com.br/smart-tv-qled-65-uhd-...  55006511      33%   \n",
       "9   https://www.extra.com.br/smart-tv-led-65-uhd-4...  55014287       9%   \n",
       "10  https://www.extra.com.br/smart-tv-qled-55-uhd-...  55008731      10%   \n",
       "11  https://www.extra.com.br/smart-tv-led-86-uhd-4...  55007668      20%   \n",
       "12  https://www.extra.com.br/smart-tv-oled-65-uhd-...  55007664      25%   \n",
       "13  https://www.extra.com.br/smart-tv-led-65-uhd-8...  55007667      20%   \n",
       "14  https://www.extra.com.br/smart-tv-led-65-uhd-4...  55007680     None   \n",
       "15  https://www.extra.com.br/smart-tv-qled-50-4k-s...  55006500       6%   \n",
       "16  https://www.extra.com.br/smart-tv-oled-55-uhd-...  55007665      19%   \n",
       "17  https://www.extra.com.br/smart-tv-led-70-uhd-4...  55006493       8%   \n",
       "18  https://www.extra.com.br/smart-tv-qled-55-4k-s...  55006501       6%   \n",
       "19  https://www.extra.com.br/smart-tv-led-82-uhd-4...  55007603      13%   \n",
       "\n",
       "   unavailable  \n",
       "0        False  \n",
       "1        False  \n",
       "2        False  \n",
       "3        False  \n",
       "4        False  \n",
       "5        False  \n",
       "6        False  \n",
       "7        False  \n",
       "8        False  \n",
       "9        False  \n",
       "10       False  \n",
       "11       False  \n",
       "12       False  \n",
       "13       False  \n",
       "14        True  \n",
       "15        True  \n",
       "16        True  \n",
       "17        True  \n",
       "18        True  \n",
       "19        True  "
      ],
      "text/html": "<div>\n<style scoped>\n    .dataframe tbody tr th:only-of-type {\n        vertical-align: middle;\n    }\n\n    .dataframe tbody tr th {\n        vertical-align: top;\n    }\n\n    .dataframe thead th {\n        text-align: right;\n    }\n</style>\n<table border=\"1\" class=\"dataframe\">\n  <thead>\n    <tr style=\"text-align: right;\">\n      <th></th>\n      <th>Title</th>\n      <th>Url</th>\n      <th>Sdk</th>\n      <th>discount</th>\n      <th>unavailable</th>\n    </tr>\n  </thead>\n  <tbody>\n    <tr>\n      <th>0</th>\n      <td>Smart TV LED 75\" UHD 4K LG 75UN8000PSB Wi-Fi, ...</td>\n      <td>https://www.extra.com.br/smart-tv-led-75-uhd-4...</td>\n      <td>55007677</td>\n      <td>5%</td>\n      <td>False</td>\n    </tr>\n    <tr>\n      <th>1</th>\n      <td>Smart TV LED 55\" UHD 4K LG 55NANO81 NanoCell, ...</td>\n      <td>https://www.extra.com.br/smart-tv-led-55-uhd-4...</td>\n      <td>55007673</td>\n      <td>23%</td>\n      <td>False</td>\n    </tr>\n    <tr>\n      <th>2</th>\n      <td>Smart TV LED 65\" UHD 4K LG 65NANO86 NanoCell, ...</td>\n      <td>https://www.extra.com.br/smart-tv-led-65-uhd-4...</td>\n      <td>55007670</td>\n      <td>5%</td>\n      <td>False</td>\n    </tr>\n    <tr>\n      <th>3</th>\n      <td>Smart TV LED 70\" UHD 4K LG 70UN7310PSC Wi-Fi, ...</td>\n      <td>https://www.extra.com.br/smart-tv-led-70-uhd-4...</td>\n      <td>55007679</td>\n      <td>9%</td>\n      <td>False</td>\n    </tr>\n    <tr>\n      <th>4</th>\n      <td>Smart TV LED 65\" 4K TCL 65P8M com Android TV, ...</td>\n      <td>https://www.extra.com.br/smart-tv-led-65-4k-tc...</td>\n      <td>55000479</td>\n      <td>3%</td>\n      <td>False</td>\n    </tr>\n    <tr>\n      <th>5</th>\n      <td>Smart TV QLED 75\" UHD 8K Samsung 75Q800T Proce...</td>\n      <td>https://www.extra.com.br/smart-tv-qled-75-uhd-...</td>\n      <td>55006512</td>\n      <td>15%</td>\n      <td>False</td>\n    </tr>\n    <tr>\n      <th>6</th>\n      <td>Smart TV LED 65\" UHD 4K LG 65NANO81 NanoCell, ...</td>\n      <td>https://www.extra.com.br/smart-tv-led-65-uhd-4...</td>\n      <td>55007672</td>\n      <td>8%</td>\n      <td>False</td>\n    </tr>\n    <tr>\n      <th>7</th>\n      <td>Smart TV LED 82\" UHD 4K LG 82UN8000PSB Wi-Fi, ...</td>\n      <td>https://www.extra.com.br/smart-tv-led-82-uhd-4...</td>\n      <td>55007676</td>\n      <td>21%</td>\n      <td>False</td>\n    </tr>\n    <tr>\n      <th>8</th>\n      <td>Smart TV QLED 65\" UHD 8K Samsung 65Q800T Proce...</td>\n      <td>https://www.extra.com.br/smart-tv-qled-65-uhd-...</td>\n      <td>55006511</td>\n      <td>33%</td>\n      <td>False</td>\n    </tr>\n    <tr>\n      <th>9</th>\n      <td>Smart TV LED 65\" UHD 4K LG 65UN7100PSA Wi-Fi, ...</td>\n      <td>https://www.extra.com.br/smart-tv-led-65-uhd-4...</td>\n      <td>55014287</td>\n      <td>9%</td>\n      <td>False</td>\n    </tr>\n    <tr>\n      <th>10</th>\n      <td>Smart TV QLED 55\" UHD 4K Samsung The Frame QN5...</td>\n      <td>https://www.extra.com.br/smart-tv-qled-55-uhd-...</td>\n      <td>55008731</td>\n      <td>10%</td>\n      <td>False</td>\n    </tr>\n    <tr>\n      <th>11</th>\n      <td>Smart TV LED 86\" UHD 4K LG 86NANO90 NanoCell, ...</td>\n      <td>https://www.extra.com.br/smart-tv-led-86-uhd-4...</td>\n      <td>55007668</td>\n      <td>20%</td>\n      <td>False</td>\n    </tr>\n    <tr>\n      <th>12</th>\n      <td>Smart TV OLED 65\" UHD 4K LG OLED65CX Wi-Fi, Bl...</td>\n      <td>https://www.extra.com.br/smart-tv-oled-65-uhd-...</td>\n      <td>55007664</td>\n      <td>25%</td>\n      <td>False</td>\n    </tr>\n    <tr>\n      <th>13</th>\n      <td>Smart TV LED 65\" UHD 8K LG 65NANO96 NanoCell, ...</td>\n      <td>https://www.extra.com.br/smart-tv-led-65-uhd-8...</td>\n      <td>55007667</td>\n      <td>20%</td>\n      <td>False</td>\n    </tr>\n    <tr>\n      <th>14</th>\n      <td>Smart TV LED 65\" UHD 4K LG 65UN7310PSC Wi-Fi, ...</td>\n      <td>https://www.extra.com.br/smart-tv-led-65-uhd-4...</td>\n      <td>55007680</td>\n      <td>None</td>\n      <td>True</td>\n    </tr>\n    <tr>\n      <th>15</th>\n      <td>Smart TV QLED 50\" 4K Samsung 50Q60T Pontos Quâ...</td>\n      <td>https://www.extra.com.br/smart-tv-qled-50-4k-s...</td>\n      <td>55006500</td>\n      <td>6%</td>\n      <td>True</td>\n    </tr>\n    <tr>\n      <th>16</th>\n      <td>Smart TV OLED 55\" UHD 4K LG OLED55CX Wi-Fi, Bl...</td>\n      <td>https://www.extra.com.br/smart-tv-oled-55-uhd-...</td>\n      <td>55007665</td>\n      <td>19%</td>\n      <td>True</td>\n    </tr>\n    <tr>\n      <th>17</th>\n      <td>Smart TV LED 70\" UHD 4K Samsung 70TU7000 Cryst...</td>\n      <td>https://www.extra.com.br/smart-tv-led-70-uhd-4...</td>\n      <td>55006493</td>\n      <td>8%</td>\n      <td>True</td>\n    </tr>\n    <tr>\n      <th>18</th>\n      <td>Smart TV QLED 55\" 4K Samsung 55Q60T Pontos Quâ...</td>\n      <td>https://www.extra.com.br/smart-tv-qled-55-4k-s...</td>\n      <td>55006501</td>\n      <td>6%</td>\n      <td>True</td>\n    </tr>\n    <tr>\n      <th>19</th>\n      <td>Smart TV LED 82\" UHD 4K Samsung 82TU8000 Cryst...</td>\n      <td>https://www.extra.com.br/smart-tv-led-82-uhd-4...</td>\n      <td>55007603</td>\n      <td>13%</td>\n      <td>True</td>\n    </tr>\n  </tbody>\n</table>\n</div>"
     },
     "metadata": {},
     "execution_count": 77
    }
   ],
   "source": [
    "tvs"
   ]
  },
  {
   "cell_type": "code",
   "execution_count": 78,
   "metadata": {},
   "outputs": [
    {
     "output_type": "execute_result",
     "data": {
      "text/plain": [
       "                                               Title  \\\n",
       "0  Toner Compativel MLT D203U Preto 15K Fast Prin...   \n",
       "1  Impressora Tanque de Tinta Epson EcoTank L1800...   \n",
       "2  Impressora HP LaserJet Pro P1102w com ePrint -...   \n",
       "3           Impressora HP OfficeJet Pro 8210 - Preto   \n",
       "4  Impressora EPSON Matricial LX-350 EDG - BRCC24021   \n",
       "5       Impressora HP Laserjet Pro CP1025 CE913A#696   \n",
       "6           Impressora HP LaserJet Pro M15w Wireless   \n",
       "7  Impressora Laser Mono Brother HL-L6202DW 46ppm...   \n",
       "\n",
       "                                                 Url       Sdk discount  \\\n",
       "0  https://www.extra.com.br/toner-compativel-mlt-...  13012324     None   \n",
       "1  https://www.extra.com.br/impressora-tanque-de-...   9195161       6%   \n",
       "2  https://www.extra.com.br/Impressora-HP-LaserJe...   1706498      26%   \n",
       "3  https://www.extra.com.br/Impressora-HP-OfficeJ...   8182623       7%   \n",
       "4  https://www.extra.com.br/impressora-epson-matr...   3720616       9%   \n",
       "5  https://www.extra.com.br/impressora-hp-laserje...    406095      19%   \n",
       "6  https://www.extra.com.br/impressora-hp-laserje...  12895633      21%   \n",
       "7  https://www.extra.com.br/impressora-laser-mono...   9803133       5%   \n",
       "\n",
       "  unavailable  \n",
       "0       False  \n",
       "1        True  \n",
       "2        True  \n",
       "3        True  \n",
       "4        True  \n",
       "5        True  \n",
       "6        True  \n",
       "7        True  "
      ],
      "text/html": "<div>\n<style scoped>\n    .dataframe tbody tr th:only-of-type {\n        vertical-align: middle;\n    }\n\n    .dataframe tbody tr th {\n        vertical-align: top;\n    }\n\n    .dataframe thead th {\n        text-align: right;\n    }\n</style>\n<table border=\"1\" class=\"dataframe\">\n  <thead>\n    <tr style=\"text-align: right;\">\n      <th></th>\n      <th>Title</th>\n      <th>Url</th>\n      <th>Sdk</th>\n      <th>discount</th>\n      <th>unavailable</th>\n    </tr>\n  </thead>\n  <tbody>\n    <tr>\n      <th>0</th>\n      <td>Toner Compativel MLT D203U Preto 15K Fast Prin...</td>\n      <td>https://www.extra.com.br/toner-compativel-mlt-...</td>\n      <td>13012324</td>\n      <td>None</td>\n      <td>False</td>\n    </tr>\n    <tr>\n      <th>1</th>\n      <td>Impressora Tanque de Tinta Epson EcoTank L1800...</td>\n      <td>https://www.extra.com.br/impressora-tanque-de-...</td>\n      <td>9195161</td>\n      <td>6%</td>\n      <td>True</td>\n    </tr>\n    <tr>\n      <th>2</th>\n      <td>Impressora HP LaserJet Pro P1102w com ePrint -...</td>\n      <td>https://www.extra.com.br/Impressora-HP-LaserJe...</td>\n      <td>1706498</td>\n      <td>26%</td>\n      <td>True</td>\n    </tr>\n    <tr>\n      <th>3</th>\n      <td>Impressora HP OfficeJet Pro 8210 - Preto</td>\n      <td>https://www.extra.com.br/Impressora-HP-OfficeJ...</td>\n      <td>8182623</td>\n      <td>7%</td>\n      <td>True</td>\n    </tr>\n    <tr>\n      <th>4</th>\n      <td>Impressora EPSON Matricial LX-350 EDG - BRCC24021</td>\n      <td>https://www.extra.com.br/impressora-epson-matr...</td>\n      <td>3720616</td>\n      <td>9%</td>\n      <td>True</td>\n    </tr>\n    <tr>\n      <th>5</th>\n      <td>Impressora HP Laserjet Pro CP1025 CE913A#696</td>\n      <td>https://www.extra.com.br/impressora-hp-laserje...</td>\n      <td>406095</td>\n      <td>19%</td>\n      <td>True</td>\n    </tr>\n    <tr>\n      <th>6</th>\n      <td>Impressora HP LaserJet Pro M15w Wireless</td>\n      <td>https://www.extra.com.br/impressora-hp-laserje...</td>\n      <td>12895633</td>\n      <td>21%</td>\n      <td>True</td>\n    </tr>\n    <tr>\n      <th>7</th>\n      <td>Impressora Laser Mono Brother HL-L6202DW 46ppm...</td>\n      <td>https://www.extra.com.br/impressora-laser-mono...</td>\n      <td>9803133</td>\n      <td>5%</td>\n      <td>True</td>\n    </tr>\n  </tbody>\n</table>\n</div>"
     },
     "metadata": {},
     "execution_count": 78
    }
   ],
   "source": [
    "printers"
   ]
  },
  {
   "cell_type": "code",
   "execution_count": null,
   "metadata": {},
   "outputs": [],
   "source": []
  }
 ],
 "metadata": {
  "kernelspec": {
   "display_name": "Python 3.8.2 64-bit ('env': venv)",
   "language": "python",
   "name": "python38264bitenvvenvd85cfd6250524494a880a45bf2453be5"
  },
  "language_info": {
   "codemirror_mode": {
    "name": "ipython",
    "version": 3
   },
   "file_extension": ".py",
   "mimetype": "text/x-python",
   "name": "python",
   "nbconvert_exporter": "python",
   "pygments_lexer": "ipython3",
   "version": "3.8.2-final"
  }
 },
 "nbformat": 4,
 "nbformat_minor": 4
}